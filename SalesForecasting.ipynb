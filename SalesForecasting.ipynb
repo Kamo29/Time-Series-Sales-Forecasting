You are provided with a time series dataset that contains monthly cafe' sales data from Australia (in billions AUD) from **April 1982** onwards.

The dataset is provided in the attached csv file: **auscafe_simulated.csv**.

You are required to build a time series model and generate a forecast for the next 48 months, based on the instructions and requirements below.

import pandas as pd
import seaborn as sns
import matplotlib.pyplot as plt
import numpy as np

#Loading the dataset
df = pd.read_csv('auscafe_simulated.csv')
df.head()

#Fixing Date format
df['Date'] = pd.to_datetime(df['Date'], format='%Y-%m-%d')

#Plotting Time Series
plt.figure(figsize=(12, 8))
sns.lineplot(data=df, x='Date', y='Expenditure_Billions_AUD', marker='o')
plt.title('Cafe Expenditure Over Time')
plt.xlabel('Date')
plt.ylabel('Expenditure (Billions AUD)')
plt.xticks(rotation=45)
plt.grid()
plt.show()

#Decomposing the time series
from statsmodels.tsa.seasonal import seasonal_decompose
result = seasonal_decompose(df.set_index('Date')['Expenditure_Billions_AUD'], model='additive')
result.plot()
plt.show()

#Stationary check using ADF test
from statsmodels.tsa.stattools import adfuller
adf_result = adfuller(df['Expenditure_Billions_AUD'])
print(f'ADF Statistic: {adf_result[0]}')
print(f'p-value: {adf_result[1]}')
if adf_result[1] < 0.05:
    print("The time series is stationary.")
else:
    print("The time series is non-stationary. Differencing is needed.")

#Differencing the time series
df['Expenditure_Diff'] = df['Expenditure_Billions_AUD'].diff()
df.dropna(inplace=True)
plt.figure(figsize=(12, 6))
sns.lineplot(data=df, x='Date', y='Expenditure_Diff', marker='o')
plt.title('Differenced Cafe Expenditure Over Time')
plt.xlabel('Date')
plt.ylabel('Differenced Expenditure (Billions AUD)')
plt.xticks(rotation=45)
plt.yticks(np.arange(0, 1, 0.1))
plt.grid()
plt.show()

#Plotting ACF and PACF
from statsmodels.graphics.tsaplots import plot_acf, plot_pacf
plt.figure(figsize=(12, 6))
plot_acf(df['Expenditure_Diff'], lags=20, ax=plt.subplot(121))
plot_pacf(df['Expenditure_Diff'], lags=20, ax=plt.subplot(122))
plt.suptitle('ACF and PACF of Differenced Expenditure')
plt.show()

#Choosing suitable choice of p and q to fit ARIMA model
# Based on ACF and PACF plots, we can choose p=1 and q=1 for the ARIMA model.
# Fitting the ARIMA model
from statsmodels.tsa.arima.model import ARIMA
model = ARIMA(df['Expenditure_Billions_AUD'], order=(1, 1, 1))
model_fit = model.fit()
print(model_fit.summary())

#Plotting and commenting on residuals
residuals = model_fit.resid
plt.figure(figsize=(12, 6))
sns.lineplot(data=residuals, marker='o')
plt.title('Residuals of ARIMA Model')
plt.xlabel('Time')
plt.ylabel('Residuals')
plt.axhline(0, color='red', linestyle='--')
plt.grid()
plt.show()

#Forecasting sales for next 48 hours
forecast = model_fit.forecast(steps=48)
plt.figure(figsize=(14, 8))
sns.lineplot(data=df, x='Date', y='Expenditure_Billions_AUD', marker='o', label='Historical Data')
plt.plot(pd.date_range(start=df['Date'].iloc[-1], periods=49, freq='H')[1:], forecast, marker='o', label='Forecast', color='orange')
plt.title('Forecasted Cafe Expenditure for Next 48 Hours')
plt.xlabel('Date')
plt.ylabel('Expenditure (Billions AUD)')
plt.xticks(rotation=45)
plt.legend()
plt.grid()
plt.show()
